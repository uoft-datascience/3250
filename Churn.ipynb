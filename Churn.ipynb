{
 "cells": [
  {
   "cell_type": "code",
   "execution_count": 1,
   "metadata": {},
   "outputs": [],
   "source": [
    "import numpy as np\n",
    "import pandas as pd\n",
    "import matplotlib.pyplot as plt\n",
    "%matplotlib inline\n",
    "from IPython.core.interactiveshell import InteractiveShell\n",
    "InteractiveShell.ast_node_interactivity = \"all\""
   ]
  },
  {
   "cell_type": "code",
   "execution_count": 2,
   "metadata": {},
   "outputs": [],
   "source": [
    "df_data = pd.read_csv('customer_churn.csv')"
   ]
  },
  {
   "cell_type": "code",
   "execution_count": 3,
   "metadata": {},
   "outputs": [
    {
     "data": {
      "text/html": [
       "<div>\n",
       "<style scoped>\n",
       "    .dataframe tbody tr th:only-of-type {\n",
       "        vertical-align: middle;\n",
       "    }\n",
       "\n",
       "    .dataframe tbody tr th {\n",
       "        vertical-align: top;\n",
       "    }\n",
       "\n",
       "    .dataframe thead th {\n",
       "        text-align: right;\n",
       "    }\n",
       "</style>\n",
       "<table border=\"1\" class=\"dataframe\">\n",
       "  <thead>\n",
       "    <tr style=\"text-align: right;\">\n",
       "      <th></th>\n",
       "      <th>State</th>\n",
       "      <th>Account Length</th>\n",
       "      <th>Area Code</th>\n",
       "      <th>Phone</th>\n",
       "      <th>Int'l Plan</th>\n",
       "      <th>VMail Plan</th>\n",
       "      <th>VMail Message</th>\n",
       "      <th>Day Mins</th>\n",
       "      <th>Day Calls</th>\n",
       "      <th>Day Charge</th>\n",
       "      <th>...</th>\n",
       "      <th>Eve Calls</th>\n",
       "      <th>Eve Charge</th>\n",
       "      <th>Night Mins</th>\n",
       "      <th>Night Calls</th>\n",
       "      <th>Night Charge</th>\n",
       "      <th>Intl Mins</th>\n",
       "      <th>Intl Calls</th>\n",
       "      <th>Intl Charge</th>\n",
       "      <th>CustServ Calls</th>\n",
       "      <th>Churn?</th>\n",
       "    </tr>\n",
       "  </thead>\n",
       "  <tbody>\n",
       "    <tr>\n",
       "      <th>0</th>\n",
       "      <td>KS</td>\n",
       "      <td>128</td>\n",
       "      <td>415</td>\n",
       "      <td>382-4657</td>\n",
       "      <td>no</td>\n",
       "      <td>yes</td>\n",
       "      <td>25</td>\n",
       "      <td>265.1</td>\n",
       "      <td>110</td>\n",
       "      <td>45.07</td>\n",
       "      <td>...</td>\n",
       "      <td>99</td>\n",
       "      <td>16.78</td>\n",
       "      <td>244.7</td>\n",
       "      <td>91</td>\n",
       "      <td>11.01</td>\n",
       "      <td>10.0</td>\n",
       "      <td>3</td>\n",
       "      <td>2.70</td>\n",
       "      <td>1</td>\n",
       "      <td>False.</td>\n",
       "    </tr>\n",
       "    <tr>\n",
       "      <th>1</th>\n",
       "      <td>OH</td>\n",
       "      <td>107</td>\n",
       "      <td>415</td>\n",
       "      <td>371-7191</td>\n",
       "      <td>no</td>\n",
       "      <td>yes</td>\n",
       "      <td>26</td>\n",
       "      <td>161.6</td>\n",
       "      <td>123</td>\n",
       "      <td>27.47</td>\n",
       "      <td>...</td>\n",
       "      <td>103</td>\n",
       "      <td>16.62</td>\n",
       "      <td>254.4</td>\n",
       "      <td>103</td>\n",
       "      <td>11.45</td>\n",
       "      <td>13.7</td>\n",
       "      <td>3</td>\n",
       "      <td>3.70</td>\n",
       "      <td>1</td>\n",
       "      <td>False.</td>\n",
       "    </tr>\n",
       "    <tr>\n",
       "      <th>2</th>\n",
       "      <td>NJ</td>\n",
       "      <td>137</td>\n",
       "      <td>415</td>\n",
       "      <td>358-1921</td>\n",
       "      <td>no</td>\n",
       "      <td>no</td>\n",
       "      <td>0</td>\n",
       "      <td>243.4</td>\n",
       "      <td>114</td>\n",
       "      <td>41.38</td>\n",
       "      <td>...</td>\n",
       "      <td>110</td>\n",
       "      <td>10.30</td>\n",
       "      <td>162.6</td>\n",
       "      <td>104</td>\n",
       "      <td>7.32</td>\n",
       "      <td>12.2</td>\n",
       "      <td>5</td>\n",
       "      <td>3.29</td>\n",
       "      <td>0</td>\n",
       "      <td>False.</td>\n",
       "    </tr>\n",
       "    <tr>\n",
       "      <th>3</th>\n",
       "      <td>OH</td>\n",
       "      <td>84</td>\n",
       "      <td>408</td>\n",
       "      <td>375-9999</td>\n",
       "      <td>yes</td>\n",
       "      <td>no</td>\n",
       "      <td>0</td>\n",
       "      <td>299.4</td>\n",
       "      <td>71</td>\n",
       "      <td>50.90</td>\n",
       "      <td>...</td>\n",
       "      <td>88</td>\n",
       "      <td>5.26</td>\n",
       "      <td>196.9</td>\n",
       "      <td>89</td>\n",
       "      <td>8.86</td>\n",
       "      <td>6.6</td>\n",
       "      <td>7</td>\n",
       "      <td>1.78</td>\n",
       "      <td>2</td>\n",
       "      <td>False.</td>\n",
       "    </tr>\n",
       "    <tr>\n",
       "      <th>4</th>\n",
       "      <td>OK</td>\n",
       "      <td>75</td>\n",
       "      <td>415</td>\n",
       "      <td>330-6626</td>\n",
       "      <td>yes</td>\n",
       "      <td>no</td>\n",
       "      <td>0</td>\n",
       "      <td>166.7</td>\n",
       "      <td>113</td>\n",
       "      <td>28.34</td>\n",
       "      <td>...</td>\n",
       "      <td>122</td>\n",
       "      <td>12.61</td>\n",
       "      <td>186.9</td>\n",
       "      <td>121</td>\n",
       "      <td>8.41</td>\n",
       "      <td>10.1</td>\n",
       "      <td>3</td>\n",
       "      <td>2.73</td>\n",
       "      <td>3</td>\n",
       "      <td>False.</td>\n",
       "    </tr>\n",
       "  </tbody>\n",
       "</table>\n",
       "<p>5 rows × 21 columns</p>\n",
       "</div>"
      ],
      "text/plain": [
       "  State  Account Length  Area Code     Phone Int'l Plan VMail Plan  \\\n",
       "0    KS             128        415  382-4657         no        yes   \n",
       "1    OH             107        415  371-7191         no        yes   \n",
       "2    NJ             137        415  358-1921         no         no   \n",
       "3    OH              84        408  375-9999        yes         no   \n",
       "4    OK              75        415  330-6626        yes         no   \n",
       "\n",
       "   VMail Message  Day Mins  Day Calls  Day Charge   ...    Eve Calls  \\\n",
       "0             25     265.1        110       45.07   ...           99   \n",
       "1             26     161.6        123       27.47   ...          103   \n",
       "2              0     243.4        114       41.38   ...          110   \n",
       "3              0     299.4         71       50.90   ...           88   \n",
       "4              0     166.7        113       28.34   ...          122   \n",
       "\n",
       "   Eve Charge  Night Mins  Night Calls  Night Charge  Intl Mins  Intl Calls  \\\n",
       "0       16.78       244.7           91         11.01       10.0           3   \n",
       "1       16.62       254.4          103         11.45       13.7           3   \n",
       "2       10.30       162.6          104          7.32       12.2           5   \n",
       "3        5.26       196.9           89          8.86        6.6           7   \n",
       "4       12.61       186.9          121          8.41       10.1           3   \n",
       "\n",
       "   Intl Charge  CustServ Calls  Churn?  \n",
       "0         2.70               1  False.  \n",
       "1         3.70               1  False.  \n",
       "2         3.29               0  False.  \n",
       "3         1.78               2  False.  \n",
       "4         2.73               3  False.  \n",
       "\n",
       "[5 rows x 21 columns]"
      ]
     },
     "execution_count": 3,
     "metadata": {},
     "output_type": "execute_result"
    }
   ],
   "source": [
    "df_data.head()"
   ]
  },
  {
   "cell_type": "code",
   "execution_count": 4,
   "metadata": {},
   "outputs": [
    {
     "data": {
      "text/plain": [
       "Churn?\n",
       "False.    2850\n",
       "True.      483\n",
       "dtype: int64"
      ]
     },
     "execution_count": 4,
     "metadata": {},
     "output_type": "execute_result"
    }
   ],
   "source": [
    "df_data.groupby('Churn?').size()"
   ]
  },
  {
   "cell_type": "code",
   "execution_count": 5,
   "metadata": {},
   "outputs": [],
   "source": [
    "df_data.columns = ['State', 'Account_Length', 'Area_Code', 'Phone', 'Intl_Plan', 'Vmail_Plan', 'VMail_Message', 'Day_Mins',\n",
    "                  'Day_Calls', 'Day_Charge', 'Eve_Mins', 'Eve_Calls', 'Eve_Charge', 'Night_Mins', 'Night_Calls', 'Night_Charge',\n",
    "                  'Intl_Mins', 'Intl_Calls', 'Intl_Charge', 'CustServ_Calls', 'Churn']"
   ]
  },
  {
   "cell_type": "code",
   "execution_count": 6,
   "metadata": {},
   "outputs": [
    {
     "data": {
      "text/plain": [
       "175.17575438596492"
      ]
     },
     "execution_count": 6,
     "metadata": {},
     "output_type": "execute_result"
    },
    {
     "data": {
      "text/plain": [
       "206.91407867494814"
      ]
     },
     "execution_count": 6,
     "metadata": {},
     "output_type": "execute_result"
    },
    {
     "data": {
      "text/plain": [
       "199.04329824561412"
      ]
     },
     "execution_count": 6,
     "metadata": {},
     "output_type": "execute_result"
    },
    {
     "data": {
      "text/plain": [
       "212.41014492753618"
      ]
     },
     "execution_count": 6,
     "metadata": {},
     "output_type": "execute_result"
    },
    {
     "data": {
      "text/plain": [
       "200.13319298245688"
      ]
     },
     "execution_count": 6,
     "metadata": {},
     "output_type": "execute_result"
    },
    {
     "data": {
      "text/plain": [
       "205.2316770186334"
      ]
     },
     "execution_count": 6,
     "metadata": {},
     "output_type": "execute_result"
    },
    {
     "data": {
      "text/plain": [
       "10.158877192982445"
      ]
     },
     "execution_count": 6,
     "metadata": {},
     "output_type": "execute_result"
    },
    {
     "data": {
      "text/plain": [
       "10.699999999999996"
      ]
     },
     "execution_count": 6,
     "metadata": {},
     "output_type": "execute_result"
    }
   ],
   "source": [
    "df_data[df_data.Churn == 'False.'].Day_Mins.mean()\n",
    "df_data[df_data.Churn == 'True.'].Day_Mins.mean()\n",
    "df_data[df_data.Churn == 'False.'].Eve_Mins.mean()\n",
    "df_data[df_data.Churn == 'True.'].Eve_Mins.mean()\n",
    "df_data[df_data.Churn == 'False.'].Night_Mins.mean()\n",
    "df_data[df_data.Churn == 'True.'].Night_Mins.mean()\n",
    "df_data[df_data.Churn == 'False.'].Intl_Mins.mean()\n",
    "df_data[df_data.Churn == 'True.'].Intl_Mins.mean()"
   ]
  },
  {
   "cell_type": "code",
   "execution_count": 7,
   "metadata": {},
   "outputs": [
    {
     "data": {
      "text/plain": [
       "100.28315789473685"
      ]
     },
     "execution_count": 7,
     "metadata": {},
     "output_type": "execute_result"
    },
    {
     "data": {
      "text/plain": [
       "101.33540372670808"
      ]
     },
     "execution_count": 7,
     "metadata": {},
     "output_type": "execute_result"
    },
    {
     "data": {
      "text/plain": [
       "100.03859649122808"
      ]
     },
     "execution_count": 7,
     "metadata": {},
     "output_type": "execute_result"
    },
    {
     "data": {
      "text/plain": [
       "100.56107660455487"
      ]
     },
     "execution_count": 7,
     "metadata": {},
     "output_type": "execute_result"
    },
    {
     "data": {
      "text/plain": [
       "100.05824561403509"
      ]
     },
     "execution_count": 7,
     "metadata": {},
     "output_type": "execute_result"
    },
    {
     "data": {
      "text/plain": [
       "100.39958592132506"
      ]
     },
     "execution_count": 7,
     "metadata": {},
     "output_type": "execute_result"
    },
    {
     "data": {
      "text/plain": [
       "4.532982456140351"
      ]
     },
     "execution_count": 7,
     "metadata": {},
     "output_type": "execute_result"
    },
    {
     "data": {
      "text/plain": [
       "4.163561076604555"
      ]
     },
     "execution_count": 7,
     "metadata": {},
     "output_type": "execute_result"
    }
   ],
   "source": [
    "df_data[df_data.Churn == 'False.'].Day_Calls.mean()\n",
    "df_data[df_data.Churn == 'True.'].Day_Calls.mean()\n",
    "df_data[df_data.Churn == 'False.'].Eve_Calls.mean()\n",
    "df_data[df_data.Churn == 'True.'].Eve_Calls.mean()\n",
    "df_data[df_data.Churn == 'False.'].Night_Calls.mean()\n",
    "df_data[df_data.Churn == 'True.'].Night_Calls.mean()\n",
    "df_data[df_data.Churn == 'False.'].Intl_Calls.mean()\n",
    "df_data[df_data.Churn == 'True.'].Intl_Calls.mean()"
   ]
  },
  {
   "cell_type": "code",
   "execution_count": 8,
   "metadata": {},
   "outputs": [
    {
     "data": {
      "text/plain": [
       "29.780421052631663"
      ]
     },
     "execution_count": 8,
     "metadata": {},
     "output_type": "execute_result"
    },
    {
     "data": {
      "text/plain": [
       "35.17592132505176"
      ]
     },
     "execution_count": 8,
     "metadata": {},
     "output_type": "execute_result"
    },
    {
     "data": {
      "text/plain": [
       "16.918908771929825"
      ]
     },
     "execution_count": 8,
     "metadata": {},
     "output_type": "execute_result"
    },
    {
     "data": {
      "text/plain": [
       "18.054968944099382"
      ]
     },
     "execution_count": 8,
     "metadata": {},
     "output_type": "execute_result"
    },
    {
     "data": {
      "text/plain": [
       "9.006073684210536"
      ]
     },
     "execution_count": 8,
     "metadata": {},
     "output_type": "execute_result"
    },
    {
     "data": {
      "text/plain": [
       "9.235527950310564"
      ]
     },
     "execution_count": 8,
     "metadata": {},
     "output_type": "execute_result"
    },
    {
     "data": {
      "text/plain": [
       "2.7434035087719235"
      ]
     },
     "execution_count": 8,
     "metadata": {},
     "output_type": "execute_result"
    },
    {
     "data": {
      "text/plain": [
       "2.889544513457558"
      ]
     },
     "execution_count": 8,
     "metadata": {},
     "output_type": "execute_result"
    }
   ],
   "source": [
    "df_data[df_data.Churn == 'False.'].Day_Charge.mean()\n",
    "df_data[df_data.Churn == 'True.'].Day_Charge.mean()\n",
    "df_data[df_data.Churn == 'False.'].Eve_Charge.mean()\n",
    "df_data[df_data.Churn == 'True.'].Eve_Charge.mean()\n",
    "df_data[df_data.Churn == 'False.'].Night_Charge.mean()\n",
    "df_data[df_data.Churn == 'True.'].Night_Charge.mean()\n",
    "df_data[df_data.Churn == 'False.'].Intl_Charge.mean()\n",
    "df_data[df_data.Churn == 'True.'].Intl_Charge.mean()"
   ]
  },
  {
   "cell_type": "code",
   "execution_count": 9,
   "metadata": {},
   "outputs": [
    {
     "data": {
      "text/plain": [
       "Churn   Intl_Plan\n",
       "False.  no           2664\n",
       "        yes           186\n",
       "True.   no            346\n",
       "        yes           137\n",
       "dtype: int64"
      ]
     },
     "execution_count": 9,
     "metadata": {},
     "output_type": "execute_result"
    }
   ],
   "source": [
    "df_data.groupby(['Churn', 'Intl_Plan']).size()"
   ]
  },
  {
   "cell_type": "code",
   "execution_count": 10,
   "metadata": {},
   "outputs": [
    {
     "data": {
      "text/plain": [
       "Churn   Area_Code\n",
       "False.  408           716\n",
       "        415          1419\n",
       "        510           715\n",
       "True.   408           122\n",
       "        415           236\n",
       "        510           125\n",
       "dtype: int64"
      ]
     },
     "execution_count": 10,
     "metadata": {},
     "output_type": "execute_result"
    }
   ],
   "source": [
    "df_data.groupby(['Churn', 'Area_Code']).size()"
   ]
  },
  {
   "cell_type": "code",
   "execution_count": 11,
   "metadata": {},
   "outputs": [
    {
     "data": {
      "text/plain": [
       "Churn   Vmail_Plan\n",
       "False.  no            2008\n",
       "        yes            842\n",
       "True.   no             403\n",
       "        yes             80\n",
       "dtype: int64"
      ]
     },
     "execution_count": 11,
     "metadata": {},
     "output_type": "execute_result"
    }
   ],
   "source": [
    "df_data.groupby(['Churn', 'Vmail_Plan']).size()"
   ]
  },
  {
   "cell_type": "code",
   "execution_count": 12,
   "metadata": {},
   "outputs": [
    {
     "data": {
      "text/plain": [
       "State\n",
       "AK     3\n",
       "AL     8\n",
       "AR    11\n",
       "AZ     4\n",
       "CA     9\n",
       "CO     9\n",
       "CT    12\n",
       "DC     5\n",
       "DE     9\n",
       "FL     8\n",
       "GA     8\n",
       "HI     3\n",
       "IA     3\n",
       "ID     9\n",
       "IL     5\n",
       "IN     9\n",
       "KS    13\n",
       "KY     8\n",
       "LA     4\n",
       "MA    11\n",
       "MD    17\n",
       "ME    13\n",
       "MI    16\n",
       "MN    15\n",
       "MO     7\n",
       "MS    14\n",
       "MT    14\n",
       "NC    11\n",
       "ND     6\n",
       "NE     5\n",
       "NH     9\n",
       "NJ    18\n",
       "NM     6\n",
       "NV    14\n",
       "NY    15\n",
       "OH    10\n",
       "OK     9\n",
       "OR    11\n",
       "PA     8\n",
       "RI     6\n",
       "SC    14\n",
       "SD     8\n",
       "TN     5\n",
       "TX    18\n",
       "UT    10\n",
       "VA     5\n",
       "VT     8\n",
       "WA    14\n",
       "WI     7\n",
       "WV    10\n",
       "WY     9\n",
       "dtype: int64"
      ]
     },
     "execution_count": 12,
     "metadata": {},
     "output_type": "execute_result"
    }
   ],
   "source": [
    "df_data[df_data.Churn == 'True.'].groupby('State').size()"
   ]
  },
  {
   "cell_type": "code",
   "execution_count": 13,
   "metadata": {},
   "outputs": [
    {
     "data": {
      "text/plain": [
       "CustServ_Calls\n",
       "0     92\n",
       "1    122\n",
       "2     87\n",
       "3     44\n",
       "4     76\n",
       "5     40\n",
       "6     14\n",
       "7      5\n",
       "8      1\n",
       "9      2\n",
       "dtype: int64"
      ]
     },
     "execution_count": 13,
     "metadata": {},
     "output_type": "execute_result"
    }
   ],
   "source": [
    "df_data[df_data.Churn == 'True.'].groupby('CustServ_Calls').size()"
   ]
  },
  {
   "cell_type": "code",
   "execution_count": 14,
   "metadata": {},
   "outputs": [
    {
     "data": {
      "text/plain": [
       "(array([ 14.,  67., 201., 479., 798., 812., 594., 264.,  84.,  20.]),\n",
       " array([  0.  ,  35.08,  70.16, 105.24, 140.32, 175.4 , 210.48, 245.56,\n",
       "        280.64, 315.72, 350.8 ]),\n",
       " <a list of 10 Patch objects>)"
      ]
     },
     "execution_count": 14,
     "metadata": {},
     "output_type": "execute_result"
    },
    {
     "data": {
      "text/plain": [
       "Text(0.5, 1.0, 'Day Mins')"
      ]
     },
     "execution_count": 14,
     "metadata": {},
     "output_type": "execute_result"
    },
    {
     "data": {
      "text/plain": [
       "(array([  2.,  21.,  87., 339., 742., 932., 716., 375.,  98.,  21.]),\n",
       " array([  0.  ,  36.37,  72.74, 109.11, 145.48, 181.85, 218.22, 254.59,\n",
       "        290.96, 327.33, 363.7 ]),\n",
       " <a list of 10 Patch objects>)"
      ]
     },
     "execution_count": 14,
     "metadata": {},
     "output_type": "execute_result"
    },
    {
     "data": {
      "text/plain": [
       "Text(0.5, 1.0, 'Eve Mins')"
      ]
     },
     "execution_count": 14,
     "metadata": {},
     "output_type": "execute_result"
    },
    {
     "data": {
      "text/plain": [
       "(array([ 11.,  56., 246., 646., 910., 848., 452., 132.,  26.,   6.]),\n",
       " array([ 23.2 ,  60.38,  97.56, 134.74, 171.92, 209.1 , 246.28, 283.46,\n",
       "        320.64, 357.82, 395.  ]),\n",
       " <a list of 10 Patch objects>)"
      ]
     },
     "execution_count": 14,
     "metadata": {},
     "output_type": "execute_result"
    },
    {
     "data": {
      "text/plain": [
       "Text(0.5, 1.0, 'Night Mins')"
      ]
     },
     "execution_count": 14,
     "metadata": {},
     "output_type": "execute_result"
    },
    {
     "data": {
      "text/plain": [
       "(array([ 20.,  32., 158., 449., 820., 968., 606., 219.,  52.,   9.]),\n",
       " array([ 0.,  2.,  4.,  6.,  8., 10., 12., 14., 16., 18., 20.]),\n",
       " <a list of 10 Patch objects>)"
      ]
     },
     "execution_count": 14,
     "metadata": {},
     "output_type": "execute_result"
    },
    {
     "data": {
      "text/plain": [
       "Text(0.5, 1.0, 'Intl Mins')"
      ]
     },
     "execution_count": 14,
     "metadata": {},
     "output_type": "execute_result"
    },
    {
     "data": {
      "image/png": "[encoded data removed]",
      "text/plain": [
       "<Figure size 1584x288 with 4 Axes>"
      ]
     },
     "metadata": {
      "needs_background": "light"
     },
     "output_type": "display_data"
    }
   ],
   "source": [
    "fig, axes = plt.subplots(1, 4, figsize=(22,4))\n",
    "axes[0].hist(df_data.Day_Mins)\n",
    "axes[0].set_title('Day Mins')\n",
    "axes[1].hist(df_data.Eve_Mins)\n",
    "axes[1].set_title('Eve Mins')\n",
    "axes[2].hist(df_data.Night_Mins)\n",
    "axes[2].set_title('Night Mins')\n",
    "axes[3].hist(df_data.Intl_Mins)\n",
    "axes[3].set_title('Intl Mins')\n",
    "plt.show()"
   ]
  },
  {
   "cell_type": "code",
   "execution_count": 15,
   "metadata": {},
   "outputs": [
    {
     "data": {
      "text/plain": [
       "(array([  1.,   9.,  21.,  67.,  87.,  45.,  84., 100.,  49.,  20.]),\n",
       " array([  0.  ,  35.08,  70.16, 105.24, 140.32, 175.4 , 210.48, 245.56,\n",
       "        280.64, 315.72, 350.8 ]),\n",
       " <a list of 10 Patch objects>)"
      ]
     },
     "execution_count": 15,
     "metadata": {},
     "output_type": "execute_result"
    },
    {
     "data": {
      "text/plain": [
       "Text(0.5, 1.0, 'Day Mins - Churn True')"
      ]
     },
     "execution_count": 15,
     "metadata": {},
     "output_type": "execute_result"
    },
    {
     "data": {
      "text/plain": [
       "(array([  6.,  22.,  37.,  96., 103.,  88.,  79.,  36.,  10.,   6.]),\n",
       " array([ 70.9 , 100.18, 129.46, 158.74, 188.02, 217.3 , 246.58, 275.86,\n",
       "        305.14, 334.42, 363.7 ]),\n",
       " <a list of 10 Patch objects>)"
      ]
     },
     "execution_count": 15,
     "metadata": {},
     "output_type": "execute_result"
    },
    {
     "data": {
      "text/plain": [
       "Text(0.5, 1.0, 'Eve Mins')"
      ]
     },
     "execution_count": 15,
     "metadata": {},
     "output_type": "execute_result"
    },
    {
     "data": {
      "text/plain": [
       "(array([  3.,   6.,  27.,  83., 106., 120.,  77.,  49.,  10.,   2.]),\n",
       " array([ 47.4 ,  78.15, 108.9 , 139.65, 170.4 , 201.15, 231.9 , 262.65,\n",
       "        293.4 , 324.15, 354.9 ]),\n",
       " <a list of 10 Patch objects>)"
      ]
     },
     "execution_count": 15,
     "metadata": {},
     "output_type": "execute_result"
    },
    {
     "data": {
      "text/plain": [
       "Text(0.5, 1.0, 'Night Mins')"
      ]
     },
     "execution_count": 15,
     "metadata": {},
     "output_type": "execute_result"
    },
    {
     "data": {
      "text/plain": [
       "(array([  1.,  15.,  36.,  89., 120.,  98.,  94.,  18.,  10.,   2.]),\n",
       " array([ 2. ,  3.8,  5.6,  7.4,  9.2, 11. , 12.8, 14.6, 16.4, 18.2, 20. ]),\n",
       " <a list of 10 Patch objects>)"
      ]
     },
     "execution_count": 15,
     "metadata": {},
     "output_type": "execute_result"
    },
    {
     "data": {
      "text/plain": [
       "Text(0.5, 1.0, 'Intl Mins')"
      ]
     },
     "execution_count": 15,
     "metadata": {},
     "output_type": "execute_result"
    },
    {
     "data": {
      "text/plain": [
       "(array([ 12.,  45., 116., 295., 557., 644., 671., 352., 135.,  23.]),\n",
       " array([  0.  ,  31.56,  63.12,  94.68, 126.24, 157.8 , 189.36, 220.92,\n",
       "        252.48, 284.04, 315.6 ]),\n",
       " <a list of 10 Patch objects>)"
      ]
     },
     "execution_count": 15,
     "metadata": {},
     "output_type": "execute_result"
    },
    {
     "data": {
      "text/plain": [
       "Text(0.5, 1.0, 'Day Mins')"
      ]
     },
     "execution_count": 15,
     "metadata": {},
     "output_type": "execute_result"
    },
    {
     "data": {
      "text/plain": [
       "(array([  2.,  20.,  77., 293., 646., 799., 605., 309.,  84.,  15.]),\n",
       " array([  0.  ,  36.18,  72.36, 108.54, 144.72, 180.9 , 217.08, 253.26,\n",
       "        289.44, 325.62, 361.8 ]),\n",
       " <a list of 10 Patch objects>)"
      ]
     },
     "execution_count": 15,
     "metadata": {},
     "output_type": "execute_result"
    },
    {
     "data": {
      "text/plain": [
       "Text(0.5, 1.0, 'Eve Mins')"
      ]
     },
     "execution_count": 15,
     "metadata": {},
     "output_type": "execute_result"
    },
    {
     "data": {
      "text/plain": [
       "(array([ 10.,  52., 222., 550., 776., 723., 378., 110.,  23.,   6.]),\n",
       " array([ 23.2 ,  60.38,  97.56, 134.74, 171.92, 209.1 , 246.28, 283.46,\n",
       "        320.64, 357.82, 395.  ]),\n",
       " <a list of 10 Patch objects>)"
      ]
     },
     "execution_count": 15,
     "metadata": {},
     "output_type": "execute_result"
    },
    {
     "data": {
      "text/plain": [
       "Text(0.5, 1.0, 'Night Mins')"
      ]
     },
     "execution_count": 15,
     "metadata": {},
     "output_type": "execute_result"
    },
    {
     "data": {
      "text/plain": [
       "(array([ 20.,  24., 103., 328., 597., 819., 629., 238.,  77.,  15.]),\n",
       " array([ 0.  ,  1.89,  3.78,  5.67,  7.56,  9.45, 11.34, 13.23, 15.12,\n",
       "        17.01, 18.9 ]),\n",
       " <a list of 10 Patch objects>)"
      ]
     },
     "execution_count": 15,
     "metadata": {},
     "output_type": "execute_result"
    },
    {
     "data": {
      "text/plain": [
       "Text(0.5, 1.0, 'Intl Mins')"
      ]
     },
     "execution_count": 15,
     "metadata": {},
     "output_type": "execute_result"
    },
    {
     "data": {
      "image/png": "[encoded data removed]",
      "text/plain": [
       "<Figure size 1584x720 with 8 Axes>"
      ]
     },
     "metadata": {
      "needs_background": "light"
     },
     "output_type": "display_data"
    }
   ],
   "source": [
    "fig, axes = plt.subplots(2, 4, figsize=(22,10))\n",
    "axes[0,0].hist(df_data[df_data.Churn == 'True.'].Day_Mins)\n",
    "axes[0,0].set_title('Day Mins - Churn True')\n",
    "axes[0,1].hist(df_data[df_data.Churn == 'True.'].Eve_Mins)\n",
    "axes[0,1].set_title('Eve Mins')\n",
    "axes[0,2].hist(df_data[df_data.Churn == 'True.'].Night_Mins)\n",
    "axes[0,2].set_title('Night Mins')\n",
    "axes[0,3].hist(df_data[df_data.Churn == 'True.'].Intl_Mins)\n",
    "axes[0,3].set_title('Intl Mins')\n",
    "axes[1,0].hist(df_data[df_data.Churn == 'False.'].Day_Mins)\n",
    "axes[1,0].set_title('Day Mins')\n",
    "axes[1,1].hist(df_data[df_data.Churn == 'False.'].Eve_Mins)\n",
    "axes[1,1].set_title('Eve Mins')\n",
    "axes[1,2].hist(df_data[df_data.Churn == 'False.'].Night_Mins)\n",
    "axes[1,2].set_title('Night Mins')\n",
    "axes[1,3].hist(df_data[df_data.Churn == 'False.'].Intl_Mins)\n",
    "axes[1,3].set_title('Intl Mins')\n",
    "plt.show()"
   ]
  },
  {
   "cell_type": "code",
   "execution_count": 16,
   "metadata": {},
   "outputs": [],
   "source": [
    "df_data['Day_rate'] = df_data.Day_Mins / df_data.Day_Charge\n",
    "df_data['Eve_rate'] = df_data.Eve_Mins / df_data.Eve_Charge\n",
    "df_data['Night_rate'] = df_data.Night_Mins / df_data.Night_Charge\n",
    "df_data['Intl_rate'] = df_data.Intl_Mins / df_data.Intl_Charge"
   ]
  },
  {
   "cell_type": "code",
   "execution_count": 17,
   "metadata": {},
   "outputs": [
    {
     "data": {
      "text/plain": [
       "5.864661654135338"
      ]
     },
     "execution_count": 17,
     "metadata": {},
     "output_type": "execute_result"
    },
    {
     "data": {
      "text/plain": [
       "5.909090909090909"
      ]
     },
     "execution_count": 17,
     "metadata": {},
     "output_type": "execute_result"
    },
    {
     "data": {
      "text/plain": [
       "5.882241184823748"
      ]
     },
     "execution_count": 17,
     "metadata": {},
     "output_type": "execute_result"
    }
   ],
   "source": [
    "df_data.Day_rate.min()\n",
    "df_data.Day_rate.max()\n",
    "df_data.Day_rate.mean()"
   ]
  },
  {
   "cell_type": "code",
   "execution_count": 18,
   "metadata": {},
   "outputs": [
    {
     "data": {
      "text/plain": [
       "11.75438596491228"
      ]
     },
     "execution_count": 18,
     "metadata": {},
     "output_type": "execute_result"
    },
    {
     "data": {
      "text/plain": [
       "11.773584905660378"
      ]
     },
     "execution_count": 18,
     "metadata": {},
     "output_type": "execute_result"
    },
    {
     "data": {
      "text/plain": [
       "11.76454396895989"
      ]
     },
     "execution_count": 18,
     "metadata": {},
     "output_type": "execute_result"
    }
   ],
   "source": [
    "df_data.Eve_rate.min()\n",
    "df_data.Eve_rate.max()\n",
    "df_data.Eve_rate.mean()"
   ]
  },
  {
   "cell_type": "code",
   "execution_count": 19,
   "metadata": {},
   "outputs": [
    {
     "data": {
      "text/plain": [
       "22.167487684729068"
      ]
     },
     "execution_count": 19,
     "metadata": {},
     "output_type": "execute_result"
    },
    {
     "data": {
      "text/plain": [
       "22.307692307692307"
      ]
     },
     "execution_count": 19,
     "metadata": {},
     "output_type": "execute_result"
    },
    {
     "data": {
      "text/plain": [
       "22.222054513881982"
      ]
     },
     "execution_count": 19,
     "metadata": {},
     "output_type": "execute_result"
    }
   ],
   "source": [
    "df_data.Night_rate.min()\n",
    "df_data.Night_rate.max()\n",
    "df_data.Night_rate.mean()"
   ]
  },
  {
   "cell_type": "code",
   "execution_count": 20,
   "metadata": {},
   "outputs": [
    {
     "data": {
      "text/plain": [
       "3.666666666666667"
      ]
     },
     "execution_count": 20,
     "metadata": {},
     "output_type": "execute_result"
    },
    {
     "data": {
      "text/plain": [
       "3.728813559322034"
      ]
     },
     "execution_count": 20,
     "metadata": {},
     "output_type": "execute_result"
    },
    {
     "data": {
      "text/plain": [
       "3.702933695380791"
      ]
     },
     "execution_count": 20,
     "metadata": {},
     "output_type": "execute_result"
    }
   ],
   "source": [
    "df_data.Intl_rate.min()\n",
    "df_data.Intl_rate.max()\n",
    "df_data.Intl_rate.mean()"
   ]
  },
  {
   "cell_type": "code",
   "execution_count": 21,
   "metadata": {},
   "outputs": [
    {
     "data": {
      "text/plain": [
       "VMail_Message\n",
       "0     2008\n",
       "4        1\n",
       "8        2\n",
       "9        2\n",
       "10       1\n",
       "11       2\n",
       "12       6\n",
       "13       4\n",
       "14       7\n",
       "15       8\n",
       "16      12\n",
       "17      13\n",
       "18       5\n",
       "19      18\n",
       "20      20\n",
       "21      26\n",
       "22      30\n",
       "23      36\n",
       "24      41\n",
       "25      37\n",
       "26      35\n",
       "27      41\n",
       "28      45\n",
       "29      45\n",
       "30      42\n",
       "31      55\n",
       "32      35\n",
       "33      40\n",
       "34      27\n",
       "35      28\n",
       "36      30\n",
       "37      27\n",
       "38      24\n",
       "39      30\n",
       "40      15\n",
       "41      10\n",
       "42      11\n",
       "43       9\n",
       "44       5\n",
       "45       5\n",
       "46       4\n",
       "47       3\n",
       "48       1\n",
       "49       1\n",
       "50       2\n",
       "51       1\n",
       "dtype: int64"
      ]
     },
     "execution_count": 21,
     "metadata": {},
     "output_type": "execute_result"
    }
   ],
   "source": [
    "df_data[df_data.Churn == 'False.'].groupby('VMail_Message').size()"
   ]
  },
  {
   "cell_type": "code",
   "execution_count": 22,
   "metadata": {},
   "outputs": [
    {
     "data": {
      "text/html": [
       "<div>\n",
       "<style scoped>\n",
       "    .dataframe tbody tr th:only-of-type {\n",
       "        vertical-align: middle;\n",
       "    }\n",
       "\n",
       "    .dataframe tbody tr th {\n",
       "        vertical-align: top;\n",
       "    }\n",
       "\n",
       "    .dataframe thead th {\n",
       "        text-align: right;\n",
       "    }\n",
       "</style>\n",
       "<table border=\"1\" class=\"dataframe\">\n",
       "  <thead>\n",
       "    <tr style=\"text-align: right;\">\n",
       "      <th></th>\n",
       "      <th>State</th>\n",
       "      <th>Account_Length</th>\n",
       "      <th>Area_Code</th>\n",
       "      <th>Phone</th>\n",
       "      <th>Intl_Plan</th>\n",
       "      <th>Vmail_Plan</th>\n",
       "      <th>VMail_Message</th>\n",
       "      <th>Day_Mins</th>\n",
       "      <th>Day_Calls</th>\n",
       "      <th>Day_Charge</th>\n",
       "      <th>...</th>\n",
       "      <th>Night_Charge</th>\n",
       "      <th>Intl_Mins</th>\n",
       "      <th>Intl_Calls</th>\n",
       "      <th>Intl_Charge</th>\n",
       "      <th>CustServ_Calls</th>\n",
       "      <th>Churn</th>\n",
       "      <th>Day_rate</th>\n",
       "      <th>Eve_rate</th>\n",
       "      <th>Night_rate</th>\n",
       "      <th>Intl_rate</th>\n",
       "    </tr>\n",
       "  </thead>\n",
       "  <tbody>\n",
       "    <tr>\n",
       "      <th>139</th>\n",
       "      <td>NV</td>\n",
       "      <td>113</td>\n",
       "      <td>415</td>\n",
       "      <td>422-6690</td>\n",
       "      <td>no</td>\n",
       "      <td>yes</td>\n",
       "      <td>23</td>\n",
       "      <td>205.0</td>\n",
       "      <td>101</td>\n",
       "      <td>34.85</td>\n",
       "      <td>...</td>\n",
       "      <td>7.14</td>\n",
       "      <td>10.2</td>\n",
       "      <td>5</td>\n",
       "      <td>2.75</td>\n",
       "      <td>2</td>\n",
       "      <td>False.</td>\n",
       "      <td>5.882353</td>\n",
       "      <td>11.764706</td>\n",
       "      <td>22.212885</td>\n",
       "      <td>3.709091</td>\n",
       "    </tr>\n",
       "    <tr>\n",
       "      <th>157</th>\n",
       "      <td>VA</td>\n",
       "      <td>139</td>\n",
       "      <td>510</td>\n",
       "      <td>328-6289</td>\n",
       "      <td>no</td>\n",
       "      <td>yes</td>\n",
       "      <td>23</td>\n",
       "      <td>157.6</td>\n",
       "      <td>129</td>\n",
       "      <td>26.79</td>\n",
       "      <td>...</td>\n",
       "      <td>11.66</td>\n",
       "      <td>13.7</td>\n",
       "      <td>2</td>\n",
       "      <td>3.70</td>\n",
       "      <td>0</td>\n",
       "      <td>False.</td>\n",
       "      <td>5.882792</td>\n",
       "      <td>11.761905</td>\n",
       "      <td>22.229846</td>\n",
       "      <td>3.702703</td>\n",
       "    </tr>\n",
       "    <tr>\n",
       "      <th>180</th>\n",
       "      <td>WV</td>\n",
       "      <td>94</td>\n",
       "      <td>510</td>\n",
       "      <td>355-5009</td>\n",
       "      <td>yes</td>\n",
       "      <td>yes</td>\n",
       "      <td>23</td>\n",
       "      <td>197.1</td>\n",
       "      <td>125</td>\n",
       "      <td>33.51</td>\n",
       "      <td>...</td>\n",
       "      <td>12.70</td>\n",
       "      <td>9.5</td>\n",
       "      <td>5</td>\n",
       "      <td>2.57</td>\n",
       "      <td>4</td>\n",
       "      <td>False.</td>\n",
       "      <td>5.881826</td>\n",
       "      <td>11.766319</td>\n",
       "      <td>22.220472</td>\n",
       "      <td>3.696498</td>\n",
       "    </tr>\n",
       "    <tr>\n",
       "      <th>194</th>\n",
       "      <td>OK</td>\n",
       "      <td>118</td>\n",
       "      <td>408</td>\n",
       "      <td>408-6496</td>\n",
       "      <td>no</td>\n",
       "      <td>yes</td>\n",
       "      <td>23</td>\n",
       "      <td>289.5</td>\n",
       "      <td>52</td>\n",
       "      <td>49.22</td>\n",
       "      <td>...</td>\n",
       "      <td>5.36</td>\n",
       "      <td>9.5</td>\n",
       "      <td>4</td>\n",
       "      <td>2.57</td>\n",
       "      <td>1</td>\n",
       "      <td>False.</td>\n",
       "      <td>5.881755</td>\n",
       "      <td>11.765537</td>\n",
       "      <td>22.220149</td>\n",
       "      <td>3.696498</td>\n",
       "    </tr>\n",
       "    <tr>\n",
       "      <th>195</th>\n",
       "      <td>MD</td>\n",
       "      <td>117</td>\n",
       "      <td>415</td>\n",
       "      <td>385-7688</td>\n",
       "      <td>no</td>\n",
       "      <td>yes</td>\n",
       "      <td>23</td>\n",
       "      <td>198.1</td>\n",
       "      <td>86</td>\n",
       "      <td>33.68</td>\n",
       "      <td>...</td>\n",
       "      <td>8.12</td>\n",
       "      <td>6.8</td>\n",
       "      <td>6</td>\n",
       "      <td>1.84</td>\n",
       "      <td>1</td>\n",
       "      <td>False.</td>\n",
       "      <td>5.881829</td>\n",
       "      <td>11.760797</td>\n",
       "      <td>22.229064</td>\n",
       "      <td>3.695652</td>\n",
       "    </tr>\n",
       "    <tr>\n",
       "      <th>228</th>\n",
       "      <td>VA</td>\n",
       "      <td>104</td>\n",
       "      <td>415</td>\n",
       "      <td>386-9790</td>\n",
       "      <td>no</td>\n",
       "      <td>yes</td>\n",
       "      <td>23</td>\n",
       "      <td>280.2</td>\n",
       "      <td>136</td>\n",
       "      <td>47.63</td>\n",
       "      <td>...</td>\n",
       "      <td>6.16</td>\n",
       "      <td>13.3</td>\n",
       "      <td>3</td>\n",
       "      <td>3.59</td>\n",
       "      <td>4</td>\n",
       "      <td>False.</td>\n",
       "      <td>5.882847</td>\n",
       "      <td>11.766275</td>\n",
       "      <td>22.224026</td>\n",
       "      <td>3.704735</td>\n",
       "    </tr>\n",
       "    <tr>\n",
       "      <th>249</th>\n",
       "      <td>NM</td>\n",
       "      <td>119</td>\n",
       "      <td>510</td>\n",
       "      <td>349-1687</td>\n",
       "      <td>no</td>\n",
       "      <td>yes</td>\n",
       "      <td>23</td>\n",
       "      <td>154.0</td>\n",
       "      <td>114</td>\n",
       "      <td>26.18</td>\n",
       "      <td>...</td>\n",
       "      <td>10.28</td>\n",
       "      <td>11.8</td>\n",
       "      <td>4</td>\n",
       "      <td>3.19</td>\n",
       "      <td>2</td>\n",
       "      <td>False.</td>\n",
       "      <td>5.882353</td>\n",
       "      <td>11.764706</td>\n",
       "      <td>22.217899</td>\n",
       "      <td>3.699060</td>\n",
       "    </tr>\n",
       "    <tr>\n",
       "      <th>357</th>\n",
       "      <td>NM</td>\n",
       "      <td>122</td>\n",
       "      <td>408</td>\n",
       "      <td>385-8730</td>\n",
       "      <td>no</td>\n",
       "      <td>yes</td>\n",
       "      <td>23</td>\n",
       "      <td>134.2</td>\n",
       "      <td>85</td>\n",
       "      <td>22.81</td>\n",
       "      <td>...</td>\n",
       "      <td>5.51</td>\n",
       "      <td>8.5</td>\n",
       "      <td>2</td>\n",
       "      <td>2.30</td>\n",
       "      <td>2</td>\n",
       "      <td>False.</td>\n",
       "      <td>5.883384</td>\n",
       "      <td>11.765010</td>\n",
       "      <td>22.214156</td>\n",
       "      <td>3.695652</td>\n",
       "    </tr>\n",
       "    <tr>\n",
       "      <th>451</th>\n",
       "      <td>KS</td>\n",
       "      <td>86</td>\n",
       "      <td>408</td>\n",
       "      <td>339-2616</td>\n",
       "      <td>no</td>\n",
       "      <td>yes</td>\n",
       "      <td>23</td>\n",
       "      <td>225.5</td>\n",
       "      <td>107</td>\n",
       "      <td>38.34</td>\n",
       "      <td>...</td>\n",
       "      <td>11.06</td>\n",
       "      <td>9.8</td>\n",
       "      <td>2</td>\n",
       "      <td>2.65</td>\n",
       "      <td>0</td>\n",
       "      <td>False.</td>\n",
       "      <td>5.881586</td>\n",
       "      <td>11.762178</td>\n",
       "      <td>22.215190</td>\n",
       "      <td>3.698113</td>\n",
       "    </tr>\n",
       "    <tr>\n",
       "      <th>464</th>\n",
       "      <td>ND</td>\n",
       "      <td>105</td>\n",
       "      <td>415</td>\n",
       "      <td>366-8036</td>\n",
       "      <td>no</td>\n",
       "      <td>yes</td>\n",
       "      <td>23</td>\n",
       "      <td>193.5</td>\n",
       "      <td>85</td>\n",
       "      <td>32.90</td>\n",
       "      <td>...</td>\n",
       "      <td>12.26</td>\n",
       "      <td>8.5</td>\n",
       "      <td>5</td>\n",
       "      <td>2.30</td>\n",
       "      <td>0</td>\n",
       "      <td>False.</td>\n",
       "      <td>5.881459</td>\n",
       "      <td>11.762821</td>\n",
       "      <td>22.218597</td>\n",
       "      <td>3.695652</td>\n",
       "    </tr>\n",
       "    <tr>\n",
       "      <th>477</th>\n",
       "      <td>GA</td>\n",
       "      <td>141</td>\n",
       "      <td>510</td>\n",
       "      <td>403-8904</td>\n",
       "      <td>no</td>\n",
       "      <td>yes</td>\n",
       "      <td>23</td>\n",
       "      <td>149.7</td>\n",
       "      <td>112</td>\n",
       "      <td>25.45</td>\n",
       "      <td>...</td>\n",
       "      <td>9.91</td>\n",
       "      <td>7.6</td>\n",
       "      <td>2</td>\n",
       "      <td>2.05</td>\n",
       "      <td>3</td>\n",
       "      <td>False.</td>\n",
       "      <td>5.882122</td>\n",
       "      <td>11.766836</td>\n",
       "      <td>22.230071</td>\n",
       "      <td>3.707317</td>\n",
       "    </tr>\n",
       "    <tr>\n",
       "      <th>500</th>\n",
       "      <td>SD</td>\n",
       "      <td>126</td>\n",
       "      <td>415</td>\n",
       "      <td>386-1548</td>\n",
       "      <td>no</td>\n",
       "      <td>yes</td>\n",
       "      <td>23</td>\n",
       "      <td>114.3</td>\n",
       "      <td>102</td>\n",
       "      <td>19.43</td>\n",
       "      <td>...</td>\n",
       "      <td>10.82</td>\n",
       "      <td>12.6</td>\n",
       "      <td>7</td>\n",
       "      <td>3.40</td>\n",
       "      <td>3</td>\n",
       "      <td>False.</td>\n",
       "      <td>5.882656</td>\n",
       "      <td>11.761434</td>\n",
       "      <td>22.218115</td>\n",
       "      <td>3.705882</td>\n",
       "    </tr>\n",
       "    <tr>\n",
       "      <th>703</th>\n",
       "      <td>MT</td>\n",
       "      <td>163</td>\n",
       "      <td>510</td>\n",
       "      <td>398-9408</td>\n",
       "      <td>no</td>\n",
       "      <td>yes</td>\n",
       "      <td>23</td>\n",
       "      <td>160.0</td>\n",
       "      <td>104</td>\n",
       "      <td>27.20</td>\n",
       "      <td>...</td>\n",
       "      <td>10.35</td>\n",
       "      <td>10.4</td>\n",
       "      <td>7</td>\n",
       "      <td>2.81</td>\n",
       "      <td>1</td>\n",
       "      <td>False.</td>\n",
       "      <td>5.882353</td>\n",
       "      <td>11.763975</td>\n",
       "      <td>22.212560</td>\n",
       "      <td>3.701068</td>\n",
       "    </tr>\n",
       "    <tr>\n",
       "      <th>752</th>\n",
       "      <td>CO</td>\n",
       "      <td>22</td>\n",
       "      <td>510</td>\n",
       "      <td>327-1319</td>\n",
       "      <td>no</td>\n",
       "      <td>yes</td>\n",
       "      <td>23</td>\n",
       "      <td>182.1</td>\n",
       "      <td>94</td>\n",
       "      <td>30.96</td>\n",
       "      <td>...</td>\n",
       "      <td>5.80</td>\n",
       "      <td>12.7</td>\n",
       "      <td>4</td>\n",
       "      <td>3.43</td>\n",
       "      <td>3</td>\n",
       "      <td>False.</td>\n",
       "      <td>5.881783</td>\n",
       "      <td>11.765547</td>\n",
       "      <td>22.206897</td>\n",
       "      <td>3.702624</td>\n",
       "    </tr>\n",
       "    <tr>\n",
       "      <th>956</th>\n",
       "      <td>AR</td>\n",
       "      <td>77</td>\n",
       "      <td>415</td>\n",
       "      <td>408-3610</td>\n",
       "      <td>no</td>\n",
       "      <td>yes</td>\n",
       "      <td>23</td>\n",
       "      <td>209.7</td>\n",
       "      <td>73</td>\n",
       "      <td>35.65</td>\n",
       "      <td>...</td>\n",
       "      <td>9.25</td>\n",
       "      <td>7.1</td>\n",
       "      <td>3</td>\n",
       "      <td>1.92</td>\n",
       "      <td>2</td>\n",
       "      <td>False.</td>\n",
       "      <td>5.882188</td>\n",
       "      <td>11.761691</td>\n",
       "      <td>22.216216</td>\n",
       "      <td>3.697917</td>\n",
       "    </tr>\n",
       "    <tr>\n",
       "      <th>958</th>\n",
       "      <td>AL</td>\n",
       "      <td>91</td>\n",
       "      <td>510</td>\n",
       "      <td>378-5633</td>\n",
       "      <td>no</td>\n",
       "      <td>yes</td>\n",
       "      <td>23</td>\n",
       "      <td>232.4</td>\n",
       "      <td>97</td>\n",
       "      <td>39.51</td>\n",
       "      <td>...</td>\n",
       "      <td>8.57</td>\n",
       "      <td>12.3</td>\n",
       "      <td>3</td>\n",
       "      <td>3.32</td>\n",
       "      <td>3</td>\n",
       "      <td>False.</td>\n",
       "      <td>5.882055</td>\n",
       "      <td>11.764706</td>\n",
       "      <td>22.228705</td>\n",
       "      <td>3.704819</td>\n",
       "    </tr>\n",
       "    <tr>\n",
       "      <th>1179</th>\n",
       "      <td>CO</td>\n",
       "      <td>101</td>\n",
       "      <td>408</td>\n",
       "      <td>420-9009</td>\n",
       "      <td>no</td>\n",
       "      <td>yes</td>\n",
       "      <td>23</td>\n",
       "      <td>262.2</td>\n",
       "      <td>101</td>\n",
       "      <td>44.57</td>\n",
       "      <td>...</td>\n",
       "      <td>5.81</td>\n",
       "      <td>7.3</td>\n",
       "      <td>14</td>\n",
       "      <td>1.97</td>\n",
       "      <td>1</td>\n",
       "      <td>False.</td>\n",
       "      <td>5.882881</td>\n",
       "      <td>11.760300</td>\n",
       "      <td>22.220310</td>\n",
       "      <td>3.705584</td>\n",
       "    </tr>\n",
       "    <tr>\n",
       "      <th>1526</th>\n",
       "      <td>OK</td>\n",
       "      <td>155</td>\n",
       "      <td>415</td>\n",
       "      <td>328-1206</td>\n",
       "      <td>no</td>\n",
       "      <td>yes</td>\n",
       "      <td>23</td>\n",
       "      <td>243.9</td>\n",
       "      <td>112</td>\n",
       "      <td>41.46</td>\n",
       "      <td>...</td>\n",
       "      <td>9.62</td>\n",
       "      <td>13.4</td>\n",
       "      <td>11</td>\n",
       "      <td>3.62</td>\n",
       "      <td>2</td>\n",
       "      <td>False.</td>\n",
       "      <td>5.882779</td>\n",
       "      <td>11.759505</td>\n",
       "      <td>22.214137</td>\n",
       "      <td>3.701657</td>\n",
       "    </tr>\n",
       "    <tr>\n",
       "      <th>1652</th>\n",
       "      <td>TN</td>\n",
       "      <td>176</td>\n",
       "      <td>415</td>\n",
       "      <td>418-2402</td>\n",
       "      <td>no</td>\n",
       "      <td>yes</td>\n",
       "      <td>23</td>\n",
       "      <td>283.2</td>\n",
       "      <td>130</td>\n",
       "      <td>48.14</td>\n",
       "      <td>...</td>\n",
       "      <td>8.00</td>\n",
       "      <td>7.2</td>\n",
       "      <td>6</td>\n",
       "      <td>1.94</td>\n",
       "      <td>1</td>\n",
       "      <td>False.</td>\n",
       "      <td>5.882842</td>\n",
       "      <td>11.765557</td>\n",
       "      <td>22.212500</td>\n",
       "      <td>3.711340</td>\n",
       "    </tr>\n",
       "    <tr>\n",
       "      <th>1708</th>\n",
       "      <td>ID</td>\n",
       "      <td>92</td>\n",
       "      <td>415</td>\n",
       "      <td>417-4063</td>\n",
       "      <td>no</td>\n",
       "      <td>yes</td>\n",
       "      <td>23</td>\n",
       "      <td>167.4</td>\n",
       "      <td>83</td>\n",
       "      <td>28.46</td>\n",
       "      <td>...</td>\n",
       "      <td>5.24</td>\n",
       "      <td>11.2</td>\n",
       "      <td>3</td>\n",
       "      <td>3.02</td>\n",
       "      <td>4</td>\n",
       "      <td>False.</td>\n",
       "      <td>5.881940</td>\n",
       "      <td>11.765241</td>\n",
       "      <td>22.213740</td>\n",
       "      <td>3.708609</td>\n",
       "    </tr>\n",
       "    <tr>\n",
       "      <th>1728</th>\n",
       "      <td>VA</td>\n",
       "      <td>113</td>\n",
       "      <td>415</td>\n",
       "      <td>401-9909</td>\n",
       "      <td>no</td>\n",
       "      <td>yes</td>\n",
       "      <td>23</td>\n",
       "      <td>149.0</td>\n",
       "      <td>104</td>\n",
       "      <td>25.33</td>\n",
       "      <td>...</td>\n",
       "      <td>9.08</td>\n",
       "      <td>9.5</td>\n",
       "      <td>5</td>\n",
       "      <td>2.57</td>\n",
       "      <td>4</td>\n",
       "      <td>False.</td>\n",
       "      <td>5.882353</td>\n",
       "      <td>11.766467</td>\n",
       "      <td>22.224670</td>\n",
       "      <td>3.696498</td>\n",
       "    </tr>\n",
       "    <tr>\n",
       "      <th>1748</th>\n",
       "      <td>MT</td>\n",
       "      <td>71</td>\n",
       "      <td>510</td>\n",
       "      <td>363-1366</td>\n",
       "      <td>no</td>\n",
       "      <td>yes</td>\n",
       "      <td>23</td>\n",
       "      <td>175.7</td>\n",
       "      <td>82</td>\n",
       "      <td>29.87</td>\n",
       "      <td>...</td>\n",
       "      <td>12.08</td>\n",
       "      <td>14.1</td>\n",
       "      <td>7</td>\n",
       "      <td>3.81</td>\n",
       "      <td>1</td>\n",
       "      <td>False.</td>\n",
       "      <td>5.882156</td>\n",
       "      <td>11.762835</td>\n",
       "      <td>22.218543</td>\n",
       "      <td>3.700787</td>\n",
       "    </tr>\n",
       "    <tr>\n",
       "      <th>1823</th>\n",
       "      <td>AR</td>\n",
       "      <td>116</td>\n",
       "      <td>415</td>\n",
       "      <td>396-9279</td>\n",
       "      <td>no</td>\n",
       "      <td>yes</td>\n",
       "      <td>23</td>\n",
       "      <td>253.0</td>\n",
       "      <td>78</td>\n",
       "      <td>43.01</td>\n",
       "      <td>...</td>\n",
       "      <td>12.50</td>\n",
       "      <td>11.8</td>\n",
       "      <td>3</td>\n",
       "      <td>3.19</td>\n",
       "      <td>2</td>\n",
       "      <td>False.</td>\n",
       "      <td>5.882353</td>\n",
       "      <td>11.761219</td>\n",
       "      <td>22.224000</td>\n",
       "      <td>3.699060</td>\n",
       "    </tr>\n",
       "    <tr>\n",
       "      <th>2024</th>\n",
       "      <td>SC</td>\n",
       "      <td>159</td>\n",
       "      <td>415</td>\n",
       "      <td>394-9825</td>\n",
       "      <td>no</td>\n",
       "      <td>yes</td>\n",
       "      <td>23</td>\n",
       "      <td>153.6</td>\n",
       "      <td>93</td>\n",
       "      <td>26.11</td>\n",
       "      <td>...</td>\n",
       "      <td>7.26</td>\n",
       "      <td>12.6</td>\n",
       "      <td>3</td>\n",
       "      <td>3.40</td>\n",
       "      <td>2</td>\n",
       "      <td>False.</td>\n",
       "      <td>5.882804</td>\n",
       "      <td>11.762473</td>\n",
       "      <td>22.217631</td>\n",
       "      <td>3.705882</td>\n",
       "    </tr>\n",
       "    <tr>\n",
       "      <th>2082</th>\n",
       "      <td>PA</td>\n",
       "      <td>65</td>\n",
       "      <td>415</td>\n",
       "      <td>382-9138</td>\n",
       "      <td>no</td>\n",
       "      <td>yes</td>\n",
       "      <td>23</td>\n",
       "      <td>224.2</td>\n",
       "      <td>106</td>\n",
       "      <td>38.11</td>\n",
       "      <td>...</td>\n",
       "      <td>10.03</td>\n",
       "      <td>9.8</td>\n",
       "      <td>4</td>\n",
       "      <td>2.65</td>\n",
       "      <td>0</td>\n",
       "      <td>False.</td>\n",
       "      <td>5.882970</td>\n",
       "      <td>11.761787</td>\n",
       "      <td>22.213360</td>\n",
       "      <td>3.698113</td>\n",
       "    </tr>\n",
       "    <tr>\n",
       "      <th>2129</th>\n",
       "      <td>CT</td>\n",
       "      <td>146</td>\n",
       "      <td>408</td>\n",
       "      <td>380-3329</td>\n",
       "      <td>no</td>\n",
       "      <td>yes</td>\n",
       "      <td>23</td>\n",
       "      <td>149.6</td>\n",
       "      <td>96</td>\n",
       "      <td>25.43</td>\n",
       "      <td>...</td>\n",
       "      <td>13.21</td>\n",
       "      <td>7.4</td>\n",
       "      <td>4</td>\n",
       "      <td>2.00</td>\n",
       "      <td>2</td>\n",
       "      <td>False.</td>\n",
       "      <td>5.882816</td>\n",
       "      <td>11.766438</td>\n",
       "      <td>22.218017</td>\n",
       "      <td>3.700000</td>\n",
       "    </tr>\n",
       "    <tr>\n",
       "      <th>2289</th>\n",
       "      <td>MS</td>\n",
       "      <td>98</td>\n",
       "      <td>415</td>\n",
       "      <td>336-7155</td>\n",
       "      <td>yes</td>\n",
       "      <td>yes</td>\n",
       "      <td>23</td>\n",
       "      <td>245.5</td>\n",
       "      <td>54</td>\n",
       "      <td>41.74</td>\n",
       "      <td>...</td>\n",
       "      <td>8.28</td>\n",
       "      <td>10.8</td>\n",
       "      <td>7</td>\n",
       "      <td>2.92</td>\n",
       "      <td>1</td>\n",
       "      <td>False.</td>\n",
       "      <td>5.881648</td>\n",
       "      <td>11.764469</td>\n",
       "      <td>22.222222</td>\n",
       "      <td>3.698630</td>\n",
       "    </tr>\n",
       "    <tr>\n",
       "      <th>2435</th>\n",
       "      <td>NY</td>\n",
       "      <td>112</td>\n",
       "      <td>415</td>\n",
       "      <td>404-9504</td>\n",
       "      <td>no</td>\n",
       "      <td>yes</td>\n",
       "      <td>23</td>\n",
       "      <td>286.6</td>\n",
       "      <td>79</td>\n",
       "      <td>48.72</td>\n",
       "      <td>...</td>\n",
       "      <td>8.73</td>\n",
       "      <td>10.3</td>\n",
       "      <td>6</td>\n",
       "      <td>2.78</td>\n",
       "      <td>1</td>\n",
       "      <td>False.</td>\n",
       "      <td>5.882594</td>\n",
       "      <td>11.764925</td>\n",
       "      <td>22.210767</td>\n",
       "      <td>3.705036</td>\n",
       "    </tr>\n",
       "    <tr>\n",
       "      <th>2458</th>\n",
       "      <td>LA</td>\n",
       "      <td>163</td>\n",
       "      <td>408</td>\n",
       "      <td>371-5875</td>\n",
       "      <td>no</td>\n",
       "      <td>yes</td>\n",
       "      <td>23</td>\n",
       "      <td>224.0</td>\n",
       "      <td>126</td>\n",
       "      <td>38.08</td>\n",
       "      <td>...</td>\n",
       "      <td>13.23</td>\n",
       "      <td>8.8</td>\n",
       "      <td>4</td>\n",
       "      <td>2.38</td>\n",
       "      <td>1</td>\n",
       "      <td>False.</td>\n",
       "      <td>5.882353</td>\n",
       "      <td>11.763224</td>\n",
       "      <td>22.214664</td>\n",
       "      <td>3.697479</td>\n",
       "    </tr>\n",
       "    <tr>\n",
       "      <th>2471</th>\n",
       "      <td>OH</td>\n",
       "      <td>95</td>\n",
       "      <td>415</td>\n",
       "      <td>329-8056</td>\n",
       "      <td>no</td>\n",
       "      <td>yes</td>\n",
       "      <td>23</td>\n",
       "      <td>160.3</td>\n",
       "      <td>87</td>\n",
       "      <td>27.25</td>\n",
       "      <td>...</td>\n",
       "      <td>8.60</td>\n",
       "      <td>7.4</td>\n",
       "      <td>3</td>\n",
       "      <td>2.00</td>\n",
       "      <td>0</td>\n",
       "      <td>False.</td>\n",
       "      <td>5.882569</td>\n",
       "      <td>11.767442</td>\n",
       "      <td>22.220930</td>\n",
       "      <td>3.700000</td>\n",
       "    </tr>\n",
       "    <tr>\n",
       "      <th>2648</th>\n",
       "      <td>CO</td>\n",
       "      <td>131</td>\n",
       "      <td>415</td>\n",
       "      <td>397-7125</td>\n",
       "      <td>no</td>\n",
       "      <td>yes</td>\n",
       "      <td>23</td>\n",
       "      <td>170.8</td>\n",
       "      <td>145</td>\n",
       "      <td>29.04</td>\n",
       "      <td>...</td>\n",
       "      <td>13.25</td>\n",
       "      <td>12.7</td>\n",
       "      <td>1</td>\n",
       "      <td>3.43</td>\n",
       "      <td>1</td>\n",
       "      <td>False.</td>\n",
       "      <td>5.881543</td>\n",
       "      <td>11.764414</td>\n",
       "      <td>22.226415</td>\n",
       "      <td>3.702624</td>\n",
       "    </tr>\n",
       "    <tr>\n",
       "      <th>2754</th>\n",
       "      <td>IN</td>\n",
       "      <td>96</td>\n",
       "      <td>415</td>\n",
       "      <td>383-4641</td>\n",
       "      <td>no</td>\n",
       "      <td>yes</td>\n",
       "      <td>23</td>\n",
       "      <td>183.1</td>\n",
       "      <td>88</td>\n",
       "      <td>31.13</td>\n",
       "      <td>...</td>\n",
       "      <td>15.76</td>\n",
       "      <td>11.3</td>\n",
       "      <td>7</td>\n",
       "      <td>3.05</td>\n",
       "      <td>1</td>\n",
       "      <td>False.</td>\n",
       "      <td>5.881786</td>\n",
       "      <td>11.763767</td>\n",
       "      <td>22.220812</td>\n",
       "      <td>3.704918</td>\n",
       "    </tr>\n",
       "    <tr>\n",
       "      <th>2764</th>\n",
       "      <td>RI</td>\n",
       "      <td>123</td>\n",
       "      <td>510</td>\n",
       "      <td>348-8711</td>\n",
       "      <td>no</td>\n",
       "      <td>yes</td>\n",
       "      <td>23</td>\n",
       "      <td>245.0</td>\n",
       "      <td>88</td>\n",
       "      <td>41.65</td>\n",
       "      <td>...</td>\n",
       "      <td>10.79</td>\n",
       "      <td>14.9</td>\n",
       "      <td>3</td>\n",
       "      <td>4.02</td>\n",
       "      <td>2</td>\n",
       "      <td>False.</td>\n",
       "      <td>5.882353</td>\n",
       "      <td>11.762095</td>\n",
       "      <td>22.215014</td>\n",
       "      <td>3.706468</td>\n",
       "    </tr>\n",
       "    <tr>\n",
       "      <th>2815</th>\n",
       "      <td>RI</td>\n",
       "      <td>120</td>\n",
       "      <td>415</td>\n",
       "      <td>377-5441</td>\n",
       "      <td>no</td>\n",
       "      <td>yes</td>\n",
       "      <td>23</td>\n",
       "      <td>221.9</td>\n",
       "      <td>114</td>\n",
       "      <td>37.72</td>\n",
       "      <td>...</td>\n",
       "      <td>11.27</td>\n",
       "      <td>7.2</td>\n",
       "      <td>5</td>\n",
       "      <td>1.94</td>\n",
       "      <td>2</td>\n",
       "      <td>False.</td>\n",
       "      <td>5.882821</td>\n",
       "      <td>11.764434</td>\n",
       "      <td>22.227152</td>\n",
       "      <td>3.711340</td>\n",
       "    </tr>\n",
       "    <tr>\n",
       "      <th>2927</th>\n",
       "      <td>CO</td>\n",
       "      <td>125</td>\n",
       "      <td>408</td>\n",
       "      <td>386-8690</td>\n",
       "      <td>no</td>\n",
       "      <td>yes</td>\n",
       "      <td>23</td>\n",
       "      <td>120.5</td>\n",
       "      <td>104</td>\n",
       "      <td>20.49</td>\n",
       "      <td>...</td>\n",
       "      <td>7.13</td>\n",
       "      <td>10.2</td>\n",
       "      <td>3</td>\n",
       "      <td>2.75</td>\n",
       "      <td>1</td>\n",
       "      <td>False.</td>\n",
       "      <td>5.880918</td>\n",
       "      <td>11.766529</td>\n",
       "      <td>22.230014</td>\n",
       "      <td>3.709091</td>\n",
       "    </tr>\n",
       "    <tr>\n",
       "      <th>3020</th>\n",
       "      <td>ND</td>\n",
       "      <td>127</td>\n",
       "      <td>415</td>\n",
       "      <td>399-1021</td>\n",
       "      <td>no</td>\n",
       "      <td>yes</td>\n",
       "      <td>23</td>\n",
       "      <td>182.0</td>\n",
       "      <td>80</td>\n",
       "      <td>30.94</td>\n",
       "      <td>...</td>\n",
       "      <td>7.06</td>\n",
       "      <td>9.8</td>\n",
       "      <td>4</td>\n",
       "      <td>2.65</td>\n",
       "      <td>1</td>\n",
       "      <td>False.</td>\n",
       "      <td>5.882353</td>\n",
       "      <td>11.763745</td>\n",
       "      <td>22.223796</td>\n",
       "      <td>3.698113</td>\n",
       "    </tr>\n",
       "  </tbody>\n",
       "</table>\n",
       "<p>36 rows × 25 columns</p>\n",
       "</div>"
      ],
      "text/plain": [
       "     State  Account_Length  Area_Code     Phone Intl_Plan Vmail_Plan  \\\n",
       "139     NV             113        415  422-6690        no        yes   \n",
       "157     VA             139        510  328-6289        no        yes   \n",
       "180     WV              94        510  355-5009       yes        yes   \n",
       "194     OK             118        408  408-6496        no        yes   \n",
       "195     MD             117        415  385-7688        no        yes   \n",
       "228     VA             104        415  386-9790        no        yes   \n",
       "249     NM             119        510  349-1687        no        yes   \n",
       "357     NM             122        408  385-8730        no        yes   \n",
       "451     KS              86        408  339-2616        no        yes   \n",
       "464     ND             105        415  366-8036        no        yes   \n",
       "477     GA             141        510  403-8904        no        yes   \n",
       "500     SD             126        415  386-1548        no        yes   \n",
       "703     MT             163        510  398-9408        no        yes   \n",
       "752     CO              22        510  327-1319        no        yes   \n",
       "956     AR              77        415  408-3610        no        yes   \n",
       "958     AL              91        510  378-5633        no        yes   \n",
       "1179    CO             101        408  420-9009        no        yes   \n",
       "1526    OK             155        415  328-1206        no        yes   \n",
       "1652    TN             176        415  418-2402        no        yes   \n",
       "1708    ID              92        415  417-4063        no        yes   \n",
       "1728    VA             113        415  401-9909        no        yes   \n",
       "1748    MT              71        510  363-1366        no        yes   \n",
       "1823    AR             116        415  396-9279        no        yes   \n",
       "2024    SC             159        415  394-9825        no        yes   \n",
       "2082    PA              65        415  382-9138        no        yes   \n",
       "2129    CT             146        408  380-3329        no        yes   \n",
       "2289    MS              98        415  336-7155       yes        yes   \n",
       "2435    NY             112        415  404-9504        no        yes   \n",
       "2458    LA             163        408  371-5875        no        yes   \n",
       "2471    OH              95        415  329-8056        no        yes   \n",
       "2648    CO             131        415  397-7125        no        yes   \n",
       "2754    IN              96        415  383-4641        no        yes   \n",
       "2764    RI             123        510  348-8711        no        yes   \n",
       "2815    RI             120        415  377-5441        no        yes   \n",
       "2927    CO             125        408  386-8690        no        yes   \n",
       "3020    ND             127        415  399-1021        no        yes   \n",
       "\n",
       "      VMail_Message  Day_Mins  Day_Calls  Day_Charge    ...      Night_Charge  \\\n",
       "139              23     205.0        101       34.85    ...              7.14   \n",
       "157              23     157.6        129       26.79    ...             11.66   \n",
       "180              23     197.1        125       33.51    ...             12.70   \n",
       "194              23     289.5         52       49.22    ...              5.36   \n",
       "195              23     198.1         86       33.68    ...              8.12   \n",
       "228              23     280.2        136       47.63    ...              6.16   \n",
       "249              23     154.0        114       26.18    ...             10.28   \n",
       "357              23     134.2         85       22.81    ...              5.51   \n",
       "451              23     225.5        107       38.34    ...             11.06   \n",
       "464              23     193.5         85       32.90    ...             12.26   \n",
       "477              23     149.7        112       25.45    ...              9.91   \n",
       "500              23     114.3        102       19.43    ...             10.82   \n",
       "703              23     160.0        104       27.20    ...             10.35   \n",
       "752              23     182.1         94       30.96    ...              5.80   \n",
       "956              23     209.7         73       35.65    ...              9.25   \n",
       "958              23     232.4         97       39.51    ...              8.57   \n",
       "1179             23     262.2        101       44.57    ...              5.81   \n",
       "1526             23     243.9        112       41.46    ...              9.62   \n",
       "1652             23     283.2        130       48.14    ...              8.00   \n",
       "1708             23     167.4         83       28.46    ...              5.24   \n",
       "1728             23     149.0        104       25.33    ...              9.08   \n",
       "1748             23     175.7         82       29.87    ...             12.08   \n",
       "1823             23     253.0         78       43.01    ...             12.50   \n",
       "2024             23     153.6         93       26.11    ...              7.26   \n",
       "2082             23     224.2        106       38.11    ...             10.03   \n",
       "2129             23     149.6         96       25.43    ...             13.21   \n",
       "2289             23     245.5         54       41.74    ...              8.28   \n",
       "2435             23     286.6         79       48.72    ...              8.73   \n",
       "2458             23     224.0        126       38.08    ...             13.23   \n",
       "2471             23     160.3         87       27.25    ...              8.60   \n",
       "2648             23     170.8        145       29.04    ...             13.25   \n",
       "2754             23     183.1         88       31.13    ...             15.76   \n",
       "2764             23     245.0         88       41.65    ...             10.79   \n",
       "2815             23     221.9        114       37.72    ...             11.27   \n",
       "2927             23     120.5        104       20.49    ...              7.13   \n",
       "3020             23     182.0         80       30.94    ...              7.06   \n",
       "\n",
       "      Intl_Mins  Intl_Calls  Intl_Charge  CustServ_Calls   Churn  Day_rate  \\\n",
       "139        10.2           5         2.75               2  False.  5.882353   \n",
       "157        13.7           2         3.70               0  False.  5.882792   \n",
       "180         9.5           5         2.57               4  False.  5.881826   \n",
       "194         9.5           4         2.57               1  False.  5.881755   \n",
       "195         6.8           6         1.84               1  False.  5.881829   \n",
       "228        13.3           3         3.59               4  False.  5.882847   \n",
       "249        11.8           4         3.19               2  False.  5.882353   \n",
       "357         8.5           2         2.30               2  False.  5.883384   \n",
       "451         9.8           2         2.65               0  False.  5.881586   \n",
       "464         8.5           5         2.30               0  False.  5.881459   \n",
       "477         7.6           2         2.05               3  False.  5.882122   \n",
       "500        12.6           7         3.40               3  False.  5.882656   \n",
       "703        10.4           7         2.81               1  False.  5.882353   \n",
       "752        12.7           4         3.43               3  False.  5.881783   \n",
       "956         7.1           3         1.92               2  False.  5.882188   \n",
       "958        12.3           3         3.32               3  False.  5.882055   \n",
       "1179        7.3          14         1.97               1  False.  5.882881   \n",
       "1526       13.4          11         3.62               2  False.  5.882779   \n",
       "1652        7.2           6         1.94               1  False.  5.882842   \n",
       "1708       11.2           3         3.02               4  False.  5.881940   \n",
       "1728        9.5           5         2.57               4  False.  5.882353   \n",
       "1748       14.1           7         3.81               1  False.  5.882156   \n",
       "1823       11.8           3         3.19               2  False.  5.882353   \n",
       "2024       12.6           3         3.40               2  False.  5.882804   \n",
       "2082        9.8           4         2.65               0  False.  5.882970   \n",
       "2129        7.4           4         2.00               2  False.  5.882816   \n",
       "2289       10.8           7         2.92               1  False.  5.881648   \n",
       "2435       10.3           6         2.78               1  False.  5.882594   \n",
       "2458        8.8           4         2.38               1  False.  5.882353   \n",
       "2471        7.4           3         2.00               0  False.  5.882569   \n",
       "2648       12.7           1         3.43               1  False.  5.881543   \n",
       "2754       11.3           7         3.05               1  False.  5.881786   \n",
       "2764       14.9           3         4.02               2  False.  5.882353   \n",
       "2815        7.2           5         1.94               2  False.  5.882821   \n",
       "2927       10.2           3         2.75               1  False.  5.880918   \n",
       "3020        9.8           4         2.65               1  False.  5.882353   \n",
       "\n",
       "       Eve_rate  Night_rate  Intl_rate  \n",
       "139   11.764706   22.212885   3.709091  \n",
       "157   11.761905   22.229846   3.702703  \n",
       "180   11.766319   22.220472   3.696498  \n",
       "194   11.765537   22.220149   3.696498  \n",
       "195   11.760797   22.229064   3.695652  \n",
       "228   11.766275   22.224026   3.704735  \n",
       "249   11.764706   22.217899   3.699060  \n",
       "357   11.765010   22.214156   3.695652  \n",
       "451   11.762178   22.215190   3.698113  \n",
       "464   11.762821   22.218597   3.695652  \n",
       "477   11.766836   22.230071   3.707317  \n",
       "500   11.761434   22.218115   3.705882  \n",
       "703   11.763975   22.212560   3.701068  \n",
       "752   11.765547   22.206897   3.702624  \n",
       "956   11.761691   22.216216   3.697917  \n",
       "958   11.764706   22.228705   3.704819  \n",
       "1179  11.760300   22.220310   3.705584  \n",
       "1526  11.759505   22.214137   3.701657  \n",
       "1652  11.765557   22.212500   3.711340  \n",
       "1708  11.765241   22.213740   3.708609  \n",
       "1728  11.766467   22.224670   3.696498  \n",
       "1748  11.762835   22.218543   3.700787  \n",
       "1823  11.761219   22.224000   3.699060  \n",
       "2024  11.762473   22.217631   3.705882  \n",
       "2082  11.761787   22.213360   3.698113  \n",
       "2129  11.766438   22.218017   3.700000  \n",
       "2289  11.764469   22.222222   3.698630  \n",
       "2435  11.764925   22.210767   3.705036  \n",
       "2458  11.763224   22.214664   3.697479  \n",
       "2471  11.767442   22.220930   3.700000  \n",
       "2648  11.764414   22.226415   3.702624  \n",
       "2754  11.763767   22.220812   3.704918  \n",
       "2764  11.762095   22.215014   3.706468  \n",
       "2815  11.764434   22.227152   3.711340  \n",
       "2927  11.766529   22.230014   3.709091  \n",
       "3020  11.763745   22.223796   3.698113  \n",
       "\n",
       "[36 rows x 25 columns]"
      ]
     },
     "execution_count": 22,
     "metadata": {},
     "output_type": "execute_result"
    }
   ],
   "source": [
    "df_data[df_data.VMail_Message == 23]"
   ]
  },
  {
   "cell_type": "code",
   "execution_count": 23,
   "metadata": {},
   "outputs": [],
   "source": [
    "df_data_final = df_data.drop(columns = ['Phone', 'Day_Calls', 'Day_Charge', 'Eve_Calls', 'Eve_Charge', 'Night_Calls', \n",
    "                                        'Night_Charge', 'Intl_Calls', 'Intl_Charge', 'Day_rate', 'Eve_rate', 'Night_rate',\n",
    "                                        'Intl_rate'])"
   ]
  },
  {
   "cell_type": "code",
   "execution_count": 24,
   "metadata": {},
   "outputs": [
    {
     "data": {
      "text/html": [
       "<div>\n",
       "<style scoped>\n",
       "    .dataframe tbody tr th:only-of-type {\n",
       "        vertical-align: middle;\n",
       "    }\n",
       "\n",
       "    .dataframe tbody tr th {\n",
       "        vertical-align: top;\n",
       "    }\n",
       "\n",
       "    .dataframe thead th {\n",
       "        text-align: right;\n",
       "    }\n",
       "</style>\n",
       "<table border=\"1\" class=\"dataframe\">\n",
       "  <thead>\n",
       "    <tr style=\"text-align: right;\">\n",
       "      <th></th>\n",
       "      <th>State</th>\n",
       "      <th>Account_Length</th>\n",
       "      <th>Area_Code</th>\n",
       "      <th>Intl_Plan</th>\n",
       "      <th>Vmail_Plan</th>\n",
       "      <th>VMail_Message</th>\n",
       "      <th>Day_Mins</th>\n",
       "      <th>Eve_Mins</th>\n",
       "      <th>Night_Mins</th>\n",
       "      <th>Intl_Mins</th>\n",
       "      <th>CustServ_Calls</th>\n",
       "      <th>Churn</th>\n",
       "    </tr>\n",
       "  </thead>\n",
       "  <tbody>\n",
       "    <tr>\n",
       "      <th>0</th>\n",
       "      <td>KS</td>\n",
       "      <td>128</td>\n",
       "      <td>415</td>\n",
       "      <td>no</td>\n",
       "      <td>yes</td>\n",
       "      <td>25</td>\n",
       "      <td>265.1</td>\n",
       "      <td>197.4</td>\n",
       "      <td>244.7</td>\n",
       "      <td>10.0</td>\n",
       "      <td>1</td>\n",
       "      <td>False.</td>\n",
       "    </tr>\n",
       "    <tr>\n",
       "      <th>1</th>\n",
       "      <td>OH</td>\n",
       "      <td>107</td>\n",
       "      <td>415</td>\n",
       "      <td>no</td>\n",
       "      <td>yes</td>\n",
       "      <td>26</td>\n",
       "      <td>161.6</td>\n",
       "      <td>195.5</td>\n",
       "      <td>254.4</td>\n",
       "      <td>13.7</td>\n",
       "      <td>1</td>\n",
       "      <td>False.</td>\n",
       "    </tr>\n",
       "    <tr>\n",
       "      <th>2</th>\n",
       "      <td>NJ</td>\n",
       "      <td>137</td>\n",
       "      <td>415</td>\n",
       "      <td>no</td>\n",
       "      <td>no</td>\n",
       "      <td>0</td>\n",
       "      <td>243.4</td>\n",
       "      <td>121.2</td>\n",
       "      <td>162.6</td>\n",
       "      <td>12.2</td>\n",
       "      <td>0</td>\n",
       "      <td>False.</td>\n",
       "    </tr>\n",
       "    <tr>\n",
       "      <th>3</th>\n",
       "      <td>OH</td>\n",
       "      <td>84</td>\n",
       "      <td>408</td>\n",
       "      <td>yes</td>\n",
       "      <td>no</td>\n",
       "      <td>0</td>\n",
       "      <td>299.4</td>\n",
       "      <td>61.9</td>\n",
       "      <td>196.9</td>\n",
       "      <td>6.6</td>\n",
       "      <td>2</td>\n",
       "      <td>False.</td>\n",
       "    </tr>\n",
       "    <tr>\n",
       "      <th>4</th>\n",
       "      <td>OK</td>\n",
       "      <td>75</td>\n",
       "      <td>415</td>\n",
       "      <td>yes</td>\n",
       "      <td>no</td>\n",
       "      <td>0</td>\n",
       "      <td>166.7</td>\n",
       "      <td>148.3</td>\n",
       "      <td>186.9</td>\n",
       "      <td>10.1</td>\n",
       "      <td>3</td>\n",
       "      <td>False.</td>\n",
       "    </tr>\n",
       "  </tbody>\n",
       "</table>\n",
       "</div>"
      ],
      "text/plain": [
       "  State  Account_Length  Area_Code Intl_Plan Vmail_Plan  VMail_Message  \\\n",
       "0    KS             128        415        no        yes             25   \n",
       "1    OH             107        415        no        yes             26   \n",
       "2    NJ             137        415        no         no              0   \n",
       "3    OH              84        408       yes         no              0   \n",
       "4    OK              75        415       yes         no              0   \n",
       "\n",
       "   Day_Mins  Eve_Mins  Night_Mins  Intl_Mins  CustServ_Calls   Churn  \n",
       "0     265.1     197.4       244.7       10.0               1  False.  \n",
       "1     161.6     195.5       254.4       13.7               1  False.  \n",
       "2     243.4     121.2       162.6       12.2               0  False.  \n",
       "3     299.4      61.9       196.9        6.6               2  False.  \n",
       "4     166.7     148.3       186.9       10.1               3  False.  "
      ]
     },
     "execution_count": 24,
     "metadata": {},
     "output_type": "execute_result"
    }
   ],
   "source": [
    "df_data_final.head()"
   ]
  },
  {
   "cell_type": "code",
   "execution_count": 25,
   "metadata": {},
   "outputs": [],
   "source": [
    "df_data_final.replace({'Churn': {'False.': 0, 'True.': 1}}, inplace=True)"
   ]
  },
  {
   "cell_type": "code",
   "execution_count": 26,
   "metadata": {},
   "outputs": [],
   "source": [
    "df_data_final.replace({'Area_Code': {408: 1, 415: 2, 510: 3}}, inplace=True)"
   ]
  },
  {
   "cell_type": "code",
   "execution_count": 27,
   "metadata": {},
   "outputs": [],
   "source": [
    "df_data_final.replace({'Intl_Plan': {'no': 1, 'yes': 2}}, inplace=True)"
   ]
  },
  {
   "cell_type": "code",
   "execution_count": 33,
   "metadata": {},
   "outputs": [],
   "source": [
    "df_data_final.replace({'VMail_Plan': {'no': 1, 'yes': 2}}, inplace=True)"
   ]
  },
  {
   "cell_type": "code",
   "execution_count": 29,
   "metadata": {},
   "outputs": [],
   "source": [
    "df_data_final.replace({'State': {'AK':1, 'AL':2, 'AR':3, 'AZ':4, 'CA':5, 'CO':6, 'CT':7, 'DC':8, 'DE':9, 'FL':10, 'GA':11, 'HI':12,\n",
    "                          'IA':13, 'ID':14, 'IL':15, 'IN':16, 'KS':17, 'KY':18, 'LA':19, 'MA':20, 'MD':21, 'ME':22, 'MI':23, \n",
    "                          'MN':24, 'MO':25, 'MS':26, 'MT':27, 'NC':28, 'ND':29, 'NE':30, 'NH':31, 'NJ':32, 'NM':33, 'NV':34,\n",
    "                          'NY':35, 'OH':36, 'OK':37, 'OR':38, 'PA':39, 'RI':40, 'SC':41, 'SD':42, 'TN':43, 'TX':44, 'UT':45,\n",
    "                          'VA':46, 'VT':47, 'WA':48, 'WI':49, 'WV':50, 'WY':51}}, inplace=True)"
   ]
  },
  {
   "cell_type": "code",
   "execution_count": 51,
   "metadata": {},
   "outputs": [],
   "source": [
    "df_data_final.replace(regex=r'yes', value=2, inplace=True)"
   ]
  },
  {
   "cell_type": "code",
   "execution_count": 52,
   "metadata": {},
   "outputs": [],
   "source": [
    "df_data_final.replace(regex=r'no', value=1, inplace=True)"
   ]
  },
  {
   "cell_type": "code",
   "execution_count": 54,
   "metadata": {},
   "outputs": [
    {
     "name": "stdout",
     "output_type": "stream",
     "text": [
      "<class 'pandas.core.frame.DataFrame'>\n",
      "RangeIndex: 3333 entries, 0 to 3332\n",
      "Data columns (total 12 columns):\n",
      "State             3333 non-null int64\n",
      "Account_Length    3333 non-null int64\n",
      "Area_Code         3333 non-null int64\n",
      "Intl_Plan         3333 non-null int64\n",
      "Vmail_Plan        3333 non-null int64\n",
      "VMail_Message     3333 non-null int64\n",
      "Day_Mins          3333 non-null float64\n",
      "Eve_Mins          3333 non-null float64\n",
      "Night_Mins        3333 non-null float64\n",
      "Intl_Mins         3333 non-null float64\n",
      "CustServ_Calls    3333 non-null int64\n",
      "Churn             3333 non-null int64\n",
      "dtypes: float64(4), int64(8)\n",
      "memory usage: 312.5 KB\n"
     ]
    }
   ],
   "source": [
    "df_data_final.info()"
   ]
  },
  {
   "cell_type": "code",
   "execution_count": 55,
   "metadata": {},
   "outputs": [],
   "source": [
    "from sklearn.naive_bayes import GaussianNB # Gaussian Naive Bayes\n",
    "from sklearn import tree #Look at documentation: http://scikit-learn.org/stable/modules/tree.html\n",
    "from sklearn import svm # SVM classifier\n",
    "from sklearn import model_selection\n",
    "\n",
    "from sklearn.model_selection import train_test_split # Helping you divide your datasets to train/test(validation)\n",
    "\n",
    "from sklearn.metrics import classification_report\n",
    "from sklearn.metrics import confusion_matrix\n",
    "from sklearn.metrics import accuracy_score"
   ]
  },
  {
   "cell_type": "code",
   "execution_count": 59,
   "metadata": {},
   "outputs": [
    {
     "name": "stdout",
     "output_type": "stream",
     "text": [
      "[[ 17.  128.    2.  ... 244.7  10.    1. ]\n",
      " [ 36.  107.    2.  ... 254.4  13.7   1. ]\n",
      " [ 32.  137.    2.  ... 162.6  12.2   0. ]\n",
      " ...\n",
      " [ 40.   28.    3.  ... 191.9  14.1   2. ]\n",
      " [  7.  184.    3.  ... 139.2   5.    2. ]\n",
      " [ 43.   74.    2.  ... 241.4  13.7   0. ]]\n",
      "[0. 0. 0. ... 0. 0. 0.]\n"
     ]
    }
   ],
   "source": [
    "#Initialize Gaussian Naive Bayes\n",
    "clf = GaussianNB()\n",
    "array = df_data_final.values\n",
    "X = array[:,0:11] # Features/Independent Variables\n",
    "Y = array[:,11] # Response/Class Variable\n",
    "print(X)\n",
    "print(Y)"
   ]
  },
  {
   "cell_type": "code",
   "execution_count": 61,
   "metadata": {},
   "outputs": [
    {
     "name": "stdout",
     "output_type": "stream",
     "text": [
      "1000\n",
      "2333\n"
     ]
    }
   ],
   "source": [
    "# One-third of data as a part of test set\n",
    "validation_size = 0.3\n",
    "seed = 7\n",
    "X_train, X_validation, Y_train, Y_validation = model_selection.train_test_split(X, Y, test_size=validation_size, random_state=seed)\n",
    "\n",
    "train_size = len(X_train)\n",
    "val_size = len(X_validation)\n",
    "print(val_size)\n",
    "print(train_size)"
   ]
  },
  {
   "cell_type": "code",
   "execution_count": 62,
   "metadata": {},
   "outputs": [
    {
     "data": {
      "text/plain": [
       "GaussianNB(priors=None, var_smoothing=1e-09)"
      ]
     },
     "execution_count": 62,
     "metadata": {},
     "output_type": "execute_result"
    }
   ],
   "source": [
    "# Test options and evaluation metric\n",
    "scoring = 'accuracy'\n",
    "\n",
    "#Fitting the training set\n",
    "clf.fit(X_train, Y_train) \n",
    "\n",
    "#Predicting for the Test(Validation) Set\n",
    "pred_clf = clf.predict(X_validation)"
   ]
  },
  {
   "cell_type": "code",
   "execution_count": 63,
   "metadata": {},
   "outputs": [
    {
     "data": {
      "text/plain": [
       "0.854"
      ]
     },
     "execution_count": 63,
     "metadata": {},
     "output_type": "execute_result"
    }
   ],
   "source": [
    "clf.score(X_validation, Y_validation)"
   ]
  },
  {
   "cell_type": "code",
   "execution_count": 64,
   "metadata": {},
   "outputs": [
    {
     "name": "stdout",
     "output_type": "stream",
     "text": [
      "NB accuracy: 0.852538 (0.016295)\n"
     ]
    }
   ],
   "source": [
    "#Model Performance\n",
    "#setting performance parameters\n",
    "kfold = model_selection.KFold(n_splits=10, random_state=seed)\n",
    "\n",
    "#calling the cross validation function\n",
    "cv_results = model_selection.cross_val_score(GaussianNB(), X_train, Y_train, cv=kfold, scoring=scoring)\n",
    "\n",
    "#displaying the mean and standard deviation of the prediction\n",
    "msg = \"%s: %f (%f)\" % ('NB accuracy', cv_results.mean(), cv_results.std())\n",
    "print(msg)"
   ]
  },
  {
   "cell_type": "code",
   "execution_count": 66,
   "metadata": {},
   "outputs": [
    {
     "data": {
      "text/plain": [
       "DecisionTreeClassifier(class_weight=None, criterion='gini', max_depth=None,\n",
       "            max_features=None, max_leaf_nodes=None,\n",
       "            min_impurity_decrease=0.0, min_impurity_split=None,\n",
       "            min_samples_leaf=1, min_samples_split=2,\n",
       "            min_weight_fraction_leaf=0.0, presort=False, random_state=None,\n",
       "            splitter='best')"
      ]
     },
     "execution_count": 66,
     "metadata": {},
     "output_type": "execute_result"
    }
   ],
   "source": [
    "clf2 = tree.DecisionTreeClassifier()\n",
    "# Test options and evaluation metric\n",
    "scoring = 'accuracy'\n",
    "\n",
    "#Fitting the training set\n",
    "clf2.fit(X_train, Y_train) \n",
    "\n",
    "#Predicting for the Test(Validation) Set\n",
    "pred_clf2 = clf2.predict(X_validation)"
   ]
  },
  {
   "cell_type": "code",
   "execution_count": 67,
   "metadata": {},
   "outputs": [
    {
     "data": {
      "text/plain": [
       "0.882"
      ]
     },
     "execution_count": 67,
     "metadata": {},
     "output_type": "execute_result"
    }
   ],
   "source": [
    "clf2.score(X_validation, Y_validation)"
   ]
  }
 ],
 "metadata": {
  "kernelspec": {
   "display_name": "Python 3",
   "language": "python",
   "name": "python3"
  },
  "language_info": {
   "codemirror_mode": {
    "name": "ipython",
    "version": 3
   },
   "file_extension": ".py",
   "mimetype": "text/x-python",
   "name": "python",
   "nbconvert_exporter": "python",
   "pygments_lexer": "ipython3",
   "version": "3.6.6"
  }
 },
 "nbformat": 4,
 "nbformat_minor": 2
}
